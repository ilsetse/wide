{
 "cells": [
  {
   "cell_type": "code",
   "execution_count": 15,
   "metadata": {},
   "outputs": [],
   "source": [
    "from finna_client import FinnaClient as fc\n",
    "from finna_client import FinnaSearchType as fst \n",
    "import time \n",
    "\n",
    "tst1 = fc() \n",
    "lookfor = \"EEG\"\n",
    "\n",
    "def \n"
   ]
  },
  {
   "cell_type": "code",
   "execution_count": 39,
   "metadata": {
    "scrolled": true
   },
   "outputs": [
    {
     "name": "stdout",
     "output_type": "stream",
     "text": [
      "Time it took: 9.456910848617554.2fs\n"
     ]
    }
   ],
   "source": [
    "time1 = time.time() \n",
    "tst1_res = tst1.search(lookfor=lookfor,\n",
    "                       search_type=fst.Subject,\n",
    "                       fields=[\"id\", \"title\", \"year\", \"buildings\", \"subjects\"],\n",
    "                       facets=\"author\",\n",
    "                       page=4,\n",
    "                       limit=100)\n",
    "time2 = time.time() \n",
    "print(\"Time it took: {:10.4f}s\".format(time2-time1))"
   ]
  },
  {
   "cell_type": "code",
   "execution_count": 34,
   "metadata": {},
   "outputs": [
    {
     "data": {
      "text/plain": [
       "500"
      ]
     },
     "execution_count": 34,
     "metadata": {},
     "output_type": "execute_result"
    }
   ],
   "source": [
    "tst1_res['resultCount']"
   ]
  },
  {
   "cell_type": "code",
   "execution_count": 35,
   "metadata": {},
   "outputs": [
    {
     "data": {
      "text/plain": [
       "6.54"
      ]
     },
     "execution_count": 35,
     "metadata": {},
     "output_type": "execute_result"
    }
   ],
   "source": [
    "654/100"
   ]
  },
  {
   "cell_type": "code",
   "execution_count": 19,
   "metadata": {},
   "outputs": [
    {
     "data": {
      "text/plain": [
       "{'resultCount': 500,\n",
       " 'records': [{'id': 'jykdok.1645830',\n",
       "   'title': 'Pitkäaikaisen masennuksen ryhmähoitomallin vaikutus aivojen alfa-aktiivisuuteen sekä kokemukseen masennusoireista pitkäaikaismasentuneilla',\n",
       "   'year': '2016'}],\n",
       " 'facets': {'author': [{'value': 'kirjoittaja',\n",
       "    'translated': 'kirjoittaja',\n",
       "    'count': 154,\n",
       "    'href': '?limit=1&lookfor=EEG&type=Subject&filter%5B%5D=author%3A%22kirjoittaja%22'},\n",
       "   {'value': 'författare',\n",
       "    'translated': 'författare',\n",
       "    'count': 14,\n",
       "    'href': '?limit=1&lookfor=EEG&type=Subject&filter%5B%5D=author%3A%22f%C3%B6rfattare%22'},\n",
       "   {'value': 'kaisa',\n",
       "    'translated': 'kaisa',\n",
       "    'count': 12,\n",
       "    'href': '?limit=1&lookfor=EEG&type=Subject&filter%5B%5D=author%3A%22kaisa%22'},\n",
       "   {'value': 'anna',\n",
       "    'translated': 'anna',\n",
       "    'count': 9,\n",
       "    'href': '?limit=1&lookfor=EEG&type=Subject&filter%5B%5D=author%3A%22anna%22'},\n",
       "   {'value': 'hanna',\n",
       "    'translated': 'hanna',\n",
       "    'count': 9,\n",
       "    'href': '?limit=1&lookfor=EEG&type=Subject&filter%5B%5D=author%3A%22hanna%22'},\n",
       "   {'value': 'pekka',\n",
       "    'translated': 'pekka',\n",
       "    'count': 9,\n",
       "    'href': '?limit=1&lookfor=EEG&type=Subject&filter%5B%5D=author%3A%22pekka%22'},\n",
       "   {'value': 't',\n",
       "    'translated': 't',\n",
       "    'count': 9,\n",
       "    'href': '?limit=1&lookfor=EEG&type=Subject&filter%5B%5D=author%3A%22t%22'},\n",
       "   {'value': 'j',\n",
       "    'translated': 'j',\n",
       "    'count': 8,\n",
       "    'href': '?limit=1&lookfor=EEG&type=Subject&filter%5B%5D=author%3A%22j%22'},\n",
       "   {'value': 'jukka',\n",
       "    'translated': 'jukka',\n",
       "    'count': 8,\n",
       "    'href': '?limit=1&lookfor=EEG&type=Subject&filter%5B%5D=author%3A%22jukka%22'},\n",
       "   {'value': 'miia',\n",
       "    'translated': 'miia',\n",
       "    'count': 8,\n",
       "    'href': '?limit=1&lookfor=EEG&type=Subject&filter%5B%5D=author%3A%22miia%22'},\n",
       "   {'value': 'respondentti',\n",
       "    'translated': 'respondentti',\n",
       "    'count': 8,\n",
       "    'href': '?limit=1&lookfor=EEG&type=Subject&filter%5B%5D=author%3A%22respondentti%22'},\n",
       "   {'value': 'antti',\n",
       "    'translated': 'antti',\n",
       "    'count': 7,\n",
       "    'href': '?limit=1&lookfor=EEG&type=Subject&filter%5B%5D=author%3A%22antti%22'},\n",
       "   {'value': 'anu',\n",
       "    'translated': 'anu',\n",
       "    'count': 7,\n",
       "    'href': '?limit=1&lookfor=EEG&type=Subject&filter%5B%5D=author%3A%22anu%22'},\n",
       "   {'value': 'cong',\n",
       "    'translated': 'cong',\n",
       "    'count': 7,\n",
       "    'href': '?limit=1&lookfor=EEG&type=Subject&filter%5B%5D=author%3A%22cong%22'},\n",
       "   {'value': 'fengyu',\n",
       "    'translated': 'fengyu',\n",
       "    'count': 7,\n",
       "    'href': '?limit=1&lookfor=EEG&type=Subject&filter%5B%5D=author%3A%22fengyu%22'},\n",
       "   {'value': 'johanna',\n",
       "    'translated': 'johanna',\n",
       "    'count': 7,\n",
       "    'href': '?limit=1&lookfor=EEG&type=Subject&filter%5B%5D=author%3A%22johanna%22'},\n",
       "   {'value': 'lohvansuu',\n",
       "    'translated': 'lohvansuu',\n",
       "    'count': 7,\n",
       "    'href': '?limit=1&lookfor=EEG&type=Subject&filter%5B%5D=author%3A%22lohvansuu%22'},\n",
       "   {'value': 'm',\n",
       "    'translated': 'm',\n",
       "    'count': 7,\n",
       "    'href': '?limit=1&lookfor=EEG&type=Subject&filter%5B%5D=author%3A%22m%22'},\n",
       "   {'value': 'mari',\n",
       "    'translated': 'mari',\n",
       "    'count': 7,\n",
       "    'href': '?limit=1&lookfor=EEG&type=Subject&filter%5B%5D=author%3A%22mari%22'},\n",
       "   {'value': 'maria',\n",
       "    'translated': 'maria',\n",
       "    'count': 7,\n",
       "    'href': '?limit=1&lookfor=EEG&type=Subject&filter%5B%5D=author%3A%22maria%22'},\n",
       "   {'value': 'minna',\n",
       "    'translated': 'minna',\n",
       "    'count': 7,\n",
       "    'href': '?limit=1&lookfor=EEG&type=Subject&filter%5B%5D=author%3A%22minna%22'},\n",
       "   {'value': 'tapani',\n",
       "    'translated': 'tapani',\n",
       "    'count': 7,\n",
       "    'href': '?limit=1&lookfor=EEG&type=Subject&filter%5B%5D=author%3A%22tapani%22'},\n",
       "   {'value': 'christina',\n",
       "    'translated': 'christina',\n",
       "    'count': 6,\n",
       "    'href': '?limit=1&lookfor=EEG&type=Subject&filter%5B%5D=author%3A%22christina%22'},\n",
       "   {'value': 'jarmo',\n",
       "    'translated': 'jarmo',\n",
       "    'count': 6,\n",
       "    'href': '?limit=1&lookfor=EEG&type=Subject&filter%5B%5D=author%3A%22jarmo%22'},\n",
       "   {'value': 'juha',\n",
       "    'translated': 'juha',\n",
       "    'count': 6,\n",
       "    'href': '?limit=1&lookfor=EEG&type=Subject&filter%5B%5D=author%3A%22juha%22'},\n",
       "   {'value': 'korhonen',\n",
       "    'translated': 'korhonen',\n",
       "    'count': 6,\n",
       "    'href': '?limit=1&lookfor=EEG&type=Subject&filter%5B%5D=author%3A%22korhonen%22'},\n",
       "   {'value': 'krause',\n",
       "    'translated': 'krause',\n",
       "    'count': 6,\n",
       "    'href': '?limit=1&lookfor=EEG&type=Subject&filter%5B%5D=author%3A%22krause%22'},\n",
       "   {'value': 'mäkinen',\n",
       "    'translated': 'mäkinen',\n",
       "    'count': 6,\n",
       "    'href': '?limit=1&lookfor=EEG&type=Subject&filter%5B%5D=author%3A%22m%C3%A4kinen%22'},\n",
       "   {'value': 'pasi',\n",
       "    'translated': 'pasi',\n",
       "    'count': 6,\n",
       "    'href': '?limit=1&lookfor=EEG&type=Subject&filter%5B%5D=author%3A%22pasi%22'},\n",
       "   {'value': 'vesa',\n",
       "    'translated': 'vesa',\n",
       "    'count': 6,\n",
       "    'href': '?limit=1&lookfor=EEG&type=Subject&filter%5B%5D=author%3A%22vesa%22'}]},\n",
       " 'status': 'OK'}"
      ]
     },
     "execution_count": 19,
     "metadata": {},
     "output_type": "execute_result"
    }
   ],
   "source": [
    "tst1.search(lookfor=lookfor,\n",
    "                       search_type=fst.Subject,\n",
    "                       fields=[\"id\", \"title\", \"year\"],\n",
    "                       facets=\"author\",\n",
    "                       page=1,\n",
    "                       limit=1)"
   ]
  },
  {
   "cell_type": "code",
   "execution_count": null,
   "metadata": {},
   "outputs": [],
   "source": []
  }
 ],
 "metadata": {
  "kernelspec": {
   "display_name": "Python 3",
   "language": "python",
   "name": "python3"
  },
  "language_info": {
   "codemirror_mode": {
    "name": "ipython",
    "version": 3
   },
   "file_extension": ".py",
   "mimetype": "text/x-python",
   "name": "python",
   "nbconvert_exporter": "python",
   "pygments_lexer": "ipython3",
   "version": "3.7.0"
  }
 },
 "nbformat": 4,
 "nbformat_minor": 2
}
